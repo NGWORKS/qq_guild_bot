{
 "cells": [
  {
   "cell_type": "code",
   "execution_count": 2,
   "metadata": {},
   "outputs": [],
   "source": [
    "from QQbot import (AudioControl, SendMessage, add_roles_members,\n",
    "                       delete_roles, delete_roles_members, establish_roles,\n",
    "                       get_channel, get_guild_info, get_guilds_all_channel,\n",
    "                       get_memder, get_roles, getMe, getMeGuilds, getMessage,\n",
    "                       getWss, modify_roles, shardsWss)"
   ]
  },
  {
   "cell_type": "markdown",
   "metadata": {},
   "source": [
    "## 当前用户信息获取\n",
    "这一类接口可以获取到用户Bot的信息，如botID、昵称，加入的频道、在频道中的身份等。\n",
    "\n",
    "### 查看当前登录的Bot信息\n",
    "该接口可以获取当前bot的id、昵称、头像"
   ]
  },
  {
   "cell_type": "code",
   "execution_count": 3,
   "metadata": {},
   "outputs": [
    {
     "name": "stdout",
     "output_type": "stream",
     "text": [
      "id='11810040378067637410' username='禾咕咕-测试中' avatar='http://thirdqq.qlogo.cn/g?b=oidb&k=G4icjGB7udGG1TArrwKId1A&s=100&t=1637758329' bot=None union_openid=None union_user_account=None\n"
     ]
    }
   ],
   "source": [
    "# 查看当前登录用户\n",
    "BotInof = getMe()\n",
    "print(BotInof)"
   ]
  },
  {
   "cell_type": "code",
   "execution_count": 4,
   "metadata": {},
   "outputs": [
    {
     "name": "stdout",
     "output_type": "stream",
     "text": [
      "加入了频道 1 个\n",
      "[Guild(id='4930494858376070938', name='机器人禾咕咕', icon='https://groupprohead-76292.picgzc.qpic.cn/52603021637757906/100?t=1637757908022', owner_id=None, owner=False, op_user_id=None, member_count=None, max_members=None, description=None, joined_at=None, union_world_id=None, union_org_id=None)]\n"
     ]
    }
   ],
   "source": [
    "# 查看当前登录用户的频道\n",
    "MeGuilds = getMeGuilds()\n",
    "print(\"加入了频道\",len(MeGuilds),\"个\")\n",
    "print(MeGuilds)\n"
   ]
  },
  {
   "cell_type": "markdown",
   "metadata": {},
   "source": [
    "## 频道相关"
   ]
  },
  {
   "cell_type": "code",
   "execution_count": 5,
   "metadata": {},
   "outputs": [
    {
     "name": "stdout",
     "output_type": "stream",
     "text": [
      "id='4930494858376070938' name='机器人禾咕咕' icon=None owner_id='9802601117268679552' owner=False op_user_id=None member_count=24 max_members=1200 description='ng' joined_at=None union_world_id=None union_org_id=None\n"
     ]
    }
   ],
   "source": [
    "# 获取指定频道信息\n",
    "guild_info = get_guild_info(4930494858376070938)\n",
    "print(guild_info)"
   ]
  },
  {
   "cell_type": "code",
   "execution_count": 6,
   "metadata": {},
   "outputs": [
    {
     "name": "stdout",
     "output_type": "stream",
     "text": [
      "guild_id='4930494858376070938' roles=[Role(id='4', name='创建者', color=4294927682, hoist=1, number=1, member_limit=1), Role(id='2', name='管理员', color=4280276644, hoist=1, number=5, member_limit=50), Role(id='5', name='子频道管理员', color=4282814975, hoist=1, number=0, member_limit=50), Role(id='10030939', name='万能的bot', color=4285110493, hoist=0, number=1, member_limit=2000), Role(id='10037002', name='测试', color=4285110493, hoist=0, number=0, member_limit=2000), Role(id='1', name='普通成员', color=4286151052, hoist=0, number=0, member_limit=1000)] role_num_limit='30'\n"
     ]
    }
   ],
   "source": [
    "# 获取指定频道身份组\n",
    "roleslist = get_roles(4930494858376070938)\n",
    "print(roleslist)"
   ]
  },
  {
   "cell_type": "code",
   "execution_count": 7,
   "metadata": {},
   "outputs": [
    {
     "name": "stdout",
     "output_type": "stream",
     "text": [
      "[Channel(id='1592769', guild_id='4930494858376070938', name='bot试炼场', type=4, sub_type=0, position=5, parent_id='0', owner_id='0'), Channel(id='1592782', guild_id='4930494858376070938', name='新功能孵化器', type=4, sub_type=0, position=6, parent_id='0', owner_id='0'), Channel(id='1554677', guild_id='4930494858376070938', name='很高兴遇见你', type=4, sub_type=0, position=2, parent_id='0', owner_id='0'), Channel(id='1554678', guild_id='4930494858376070938', name='话题讨论', type=4, sub_type=0, position=3, parent_id='0', owner_id='0'), Channel(id='1554680', guild_id='4930494858376070938', name='频道管理', type=4, sub_type=0, position=4, parent_id='0', owner_id='0'), Channel(id='1554681', guild_id='4930494858376070938', name='', type=4, sub_type=0, position=1, parent_id='0', owner_id='0'), Channel(id='1587214', guild_id='4930494858376070938', name='botの奇妙发言', type=0, sub_type=0, position=2, parent_id='1592769', owner_id='0'), Channel(id='1592778', guild_id='4930494858376070938', name='功能更新日历', type=10006, sub_type=0, position=1, parent_id='1592782', owner_id='0'), Channel(id='1554672', guild_id='4930494858376070938', name='😃闲聊大厅', type=0, sub_type=0, position=2, parent_id='1554678', owner_id='0'), Channel(id='1554675', guild_id='4930494858376070938', name='🔒管理员议事厅', type=0, sub_type=0, position=1, parent_id='1554680', owner_id='0'), Channel(id='1555076', guild_id='4930494858376070938', name='机器人测试', type=0, sub_type=0, position=1, parent_id='1592769', owner_id='0'), Channel(id='1554676', guild_id='4930494858376070938', name='🚪小黑屋', type=0, sub_type=0, position=2, parent_id='1554680', owner_id='0'), Channel(id='1592779', guild_id='4930494858376070938', name='产品锦鲤大投票', type=10006, sub_type=0, position=2, parent_id='1592782', owner_id='0'), Channel(id='1592790', guild_id='4930494858376070938', name='建议', type=10007, sub_type=0, position=1, parent_id='1554681', owner_id='0'), Channel(id='1554668', guild_id='4930494858376070938', name='📝重要通知', type=0, sub_type=1, position=1, parent_id='1554677', owner_id='0'), Channel(id='1554670', guild_id='4930494858376070938', name='🧐今日大事', type=0, sub_type=2, position=2, parent_id='1554677', owner_id='0'), Channel(id='1554671', guild_id='4930494858376070938', name='🥳欢迎萌新', type=0, sub_type=0, position=1, parent_id='1554678', owner_id='0')]\n"
     ]
    }
   ],
   "source": [
    "# 获取一个频道下的所有子频道\n",
    "all_channel = get_guilds_all_channel(4930494858376070938)\n",
    "print(all_channel)"
   ]
  },
  {
   "cell_type": "code",
   "execution_count": 8,
   "metadata": {},
   "outputs": [
    {
     "name": "stdout",
     "output_type": "stream",
     "text": [
      "1610612739\n"
     ]
    }
   ],
   "source": [
    "\n",
    "1 << 0\n",
    "# 0000 0000 0000 0000 0000 0000 0000 0001\n",
    "1 << 1\n",
    "# 0000 0000 0000 0000 0000 0000 0000 0010\n",
    "1 << 12\n",
    "# 0000 0000 0000 0000 0001 0000 0000 0000\n",
    "1 << 29\n",
    "# 0010 0000 0000 0000 0000 0000 0000 0000\n",
    "1 << 30\n",
    "# 0100 0000 0000 0000 0000 0000 0000 0000\n",
    "# 0110 0000 0000 0000 0001 0000 0000 0011\n",
    "print(int(\"01100000000000000000000000000011\",2))"
   ]
  },
  {
   "cell_type": "code",
   "execution_count": 9,
   "metadata": {},
   "outputs": [
    {
     "name": "stdout",
     "output_type": "stream",
     "text": [
      "id='1554668' guild_id='4930494858376070938' name='📝重要通知' type=0 sub_type=1 position=2 parent_id='1554677' owner_id='0'\n"
     ]
    }
   ],
   "source": [
    "channel_info = get_channel(1554668)\n",
    "print(channel_info)"
   ]
  },
  {
   "cell_type": "code",
   "execution_count": null,
   "metadata": {},
   "outputs": [],
   "source": []
  },
  {
   "cell_type": "markdown",
   "metadata": {},
   "source": [
    "## 身份组相关"
   ]
  },
  {
   "cell_type": "code",
   "execution_count": 10,
   "metadata": {},
   "outputs": [
    {
     "name": "stdout",
     "output_type": "stream",
     "text": [
      "role_id='10037579'\n"
     ]
    }
   ],
   "source": [
    "# 新建身份组\n",
    "from QQbot import Filter,Info\n",
    "filter = Filter(name=1,color=1,hoist=1)\n",
    "info = Info(name=\"BOT钦定~\",color=4285110493,hoist=1)\n",
    "new_roles = establish_roles(guild_id=4930494858376070938,filter=filter,info=info)\n",
    "new_roles_id = new_roles.role_id\n",
    "print(new_roles)\n"
   ]
  },
  {
   "cell_type": "code",
   "execution_count": 11,
   "metadata": {},
   "outputs": [
    {
     "data": {
      "text/plain": [
       "role_and_guild_id(guild_id='4930494858376070938', role_id='10037579')"
      ]
     },
     "execution_count": 11,
     "metadata": {},
     "output_type": "execute_result"
    }
   ],
   "source": [
    "# 修改身份组\n",
    "new_info = Info(name=\"BOT在修改~\",color=4285110493,hoist=1)\n",
    "modify_roles(guild_id=4930494858376070938,role_id=new_roles_id,filter=filter,info=new_info)"
   ]
  },
  {
   "cell_type": "code",
   "execution_count": 12,
   "metadata": {},
   "outputs": [
    {
     "data": {
      "text/plain": [
       "True"
      ]
     },
     "execution_count": 12,
     "metadata": {},
     "output_type": "execute_result"
    }
   ],
   "source": [
    "# 删除身份组\n",
    "delete_roles(guild_id=4930494858376070938,role_id=new_roles_id)\n"
   ]
  },
  {
   "cell_type": "code",
   "execution_count": 13,
   "metadata": {},
   "outputs": [
    {
     "data": {
      "text/plain": [
       "Member(user=User(id='11810040378067637410', username='禾咕咕-测试中', avatar='http://thirdqq.qlogo.cn/g?b=oidb&k=G4icjGB7udGG1TArrwKId1A&s=100&t=1637758329', bot=True, union_openid=None, union_user_account=None), nick='', roles=['1'], joined_at='2021-11-24T20:56:18+08:00')"
      ]
     },
     "execution_count": 13,
     "metadata": {},
     "output_type": "execute_result"
    }
   ],
   "source": [
    "# 查询成员在频道中的身份组\n",
    "get_memder(guild_id=4930494858376070938,user_id=11810040378067637410)"
   ]
  },
  {
   "cell_type": "code",
   "execution_count": 14,
   "metadata": {},
   "outputs": [
    {
     "data": {
      "text/plain": [
       "True"
      ]
     },
     "execution_count": 14,
     "metadata": {},
     "output_type": "execute_result"
    }
   ],
   "source": [
    "# 将指定成员移动到指定身份组\n",
    "add_roles_members(guild_id=4930494858376070938,user_id=11810040378067637410,role_id=10030939)"
   ]
  },
  {
   "cell_type": "code",
   "execution_count": 15,
   "metadata": {},
   "outputs": [
    {
     "data": {
      "text/plain": [
       "True"
      ]
     },
     "execution_count": 15,
     "metadata": {},
     "output_type": "execute_result"
    }
   ],
   "source": [
    "# 将指定成员从指定身份组中移除\n",
    "delete_roles_members(guild_id=4930494858376070938,user_id=11810040378067637410,role_id=10030939)\n"
   ]
  },
  {
   "cell_type": "markdown",
   "metadata": {},
   "source": [
    "## 获取WS网关相关"
   ]
  },
  {
   "cell_type": "code",
   "execution_count": 16,
   "metadata": {},
   "outputs": [
    {
     "data": {
      "text/plain": [
       "Shards(url='wss://api.sgroup.qq.com/websocket', shards=1, session_start_limit=SessionStartLimit(total=1000, remaining=993, reset_after=82975041, max_concurrency=1))"
      ]
     },
     "execution_count": 16,
     "metadata": {},
     "output_type": "execute_result"
    }
   ],
   "source": [
    "shardsWss()\n"
   ]
  },
  {
   "cell_type": "code",
   "execution_count": 17,
   "metadata": {},
   "outputs": [
    {
     "data": {
      "text/plain": [
       "'wss://api.sgroup.qq.com/websocket'"
      ]
     },
     "execution_count": 17,
     "metadata": {},
     "output_type": "execute_result"
    }
   ],
   "source": [
    "getWss()"
   ]
  },
  {
   "cell_type": "markdown",
   "metadata": {},
   "source": [
    "## 发消息"
   ]
  },
  {
   "cell_type": "code",
   "execution_count": 18,
   "metadata": {},
   "outputs": [
    {
     "ename": "ValidationError",
     "evalue": "5 validation errors for Message\nid\n  field required (type=value_error.missing)\nchannel_id\n  field required (type=value_error.missing)\nguild_id\n  field required (type=value_error.missing)\ntimestamp\n  field required (type=value_error.missing)\nauthor\n  field required (type=value_error.missing)",
     "output_type": "error",
     "traceback": [
      "\u001b[1;31m---------------------------------------------------------------------------\u001b[0m",
      "\u001b[1;31mValidationError\u001b[0m                           Traceback (most recent call last)",
      "\u001b[1;32m~\\AppData\\Local\\Temp/ipykernel_3024/3417835322.py\u001b[0m in \u001b[0;36m<module>\u001b[1;34m\u001b[0m\n\u001b[0;32m      2\u001b[0m \u001b[0mm\u001b[0m \u001b[1;33m=\u001b[0m \u001b[0mSendMessage\u001b[0m\u001b[1;33m(\u001b[0m\u001b[0mchannel_id\u001b[0m\u001b[1;33m=\u001b[0m\u001b[1;36m1587214\u001b[0m\u001b[1;33m)\u001b[0m\u001b[1;33m\u001b[0m\u001b[1;33m\u001b[0m\u001b[0m\n\u001b[0;32m      3\u001b[0m \u001b[1;33m\u001b[0m\u001b[0m\n\u001b[1;32m----> 4\u001b[1;33m \u001b[0mm\u001b[0m\u001b[1;33m.\u001b[0m\u001b[0msend_text\u001b[0m\u001b[1;33m(\u001b[0m\u001b[0mcontent\u001b[0m \u001b[1;33m=\u001b[0m \u001b[1;34m\"hello world!\"\u001b[0m\u001b[1;33m)\u001b[0m\u001b[1;33m\u001b[0m\u001b[1;33m\u001b[0m\u001b[0m\n\u001b[0m",
      "\u001b[1;32mc:\\Users\\mikul\\Desktop\\QQbot\\QQbot\\Api\\message.py\u001b[0m in \u001b[0;36msend_text\u001b[1;34m(self, content, msg_id)\u001b[0m\n\u001b[0;32m     35\u001b[0m         \"\"\"\n\u001b[0;32m     36\u001b[0m         \u001b[0mdata\u001b[0m \u001b[1;33m=\u001b[0m \u001b[1;33m{\u001b[0m\u001b[1;34m\"content\"\u001b[0m\u001b[1;33m:\u001b[0m \u001b[0mcontent\u001b[0m\u001b[1;33m,\u001b[0m \u001b[1;34m\"msg_id\"\u001b[0m\u001b[1;33m:\u001b[0m \u001b[0mmsg_id\u001b[0m\u001b[1;33m}\u001b[0m\u001b[1;33m\u001b[0m\u001b[1;33m\u001b[0m\u001b[0m\n\u001b[1;32m---> 37\u001b[1;33m         \u001b[1;32mreturn\u001b[0m \u001b[0mself\u001b[0m\u001b[1;33m.\u001b[0m\u001b[0m__request\u001b[0m\u001b[1;33m(\u001b[0m\u001b[0mdata\u001b[0m\u001b[1;33m)\u001b[0m\u001b[1;33m\u001b[0m\u001b[1;33m\u001b[0m\u001b[0m\n\u001b[0m\u001b[0;32m     38\u001b[0m \u001b[1;33m\u001b[0m\u001b[0m\n\u001b[0;32m     39\u001b[0m     \u001b[1;32mdef\u001b[0m \u001b[0msend_embed\u001b[0m\u001b[1;33m(\u001b[0m\u001b[0mself\u001b[0m\u001b[1;33m,\u001b[0m \u001b[0membed\u001b[0m\u001b[1;33m:\u001b[0m \u001b[0mMessageEmbed\u001b[0m\u001b[1;33m,\u001b[0m \u001b[0mmsg_id\u001b[0m\u001b[1;33m:\u001b[0m \u001b[0mText\u001b[0m \u001b[1;33m|\u001b[0m \u001b[1;32mNone\u001b[0m\u001b[1;33m)\u001b[0m \u001b[1;33m->\u001b[0m \u001b[0mMessage\u001b[0m\u001b[1;33m:\u001b[0m\u001b[1;33m\u001b[0m\u001b[1;33m\u001b[0m\u001b[0m\n",
      "\u001b[1;32mc:\\Users\\mikul\\Desktop\\QQbot\\QQbot\\Api\\message.py\u001b[0m in \u001b[0;36m__request\u001b[1;34m(self, data)\u001b[0m\n\u001b[0;32m     23\u001b[0m         \u001b[0mres\u001b[0m \u001b[1;33m=\u001b[0m \u001b[0mpost\u001b[0m\u001b[1;33m(\u001b[0m\u001b[0mself\u001b[0m\u001b[1;33m.\u001b[0m\u001b[0murl\u001b[0m\u001b[1;33m,\u001b[0m \u001b[0mjson\u001b[0m\u001b[1;33m=\u001b[0m\u001b[0mdata\u001b[0m\u001b[1;33m)\u001b[0m\u001b[1;33m\u001b[0m\u001b[1;33m\u001b[0m\u001b[0m\n\u001b[0;32m     24\u001b[0m         \u001b[1;31m# print(res)\u001b[0m\u001b[1;33m\u001b[0m\u001b[1;33m\u001b[0m\u001b[0m\n\u001b[1;32m---> 25\u001b[1;33m         \u001b[1;32mreturn\u001b[0m \u001b[0mMessage\u001b[0m\u001b[1;33m(\u001b[0m\u001b[1;33m**\u001b[0m\u001b[0mres\u001b[0m\u001b[1;33m)\u001b[0m\u001b[1;33m\u001b[0m\u001b[1;33m\u001b[0m\u001b[0m\n\u001b[0m\u001b[0;32m     26\u001b[0m \u001b[1;33m\u001b[0m\u001b[0m\n\u001b[0;32m     27\u001b[0m     \u001b[1;32mdef\u001b[0m \u001b[0msend_text\u001b[0m\u001b[1;33m(\u001b[0m\u001b[0mself\u001b[0m\u001b[1;33m,\u001b[0m \u001b[0mcontent\u001b[0m\u001b[1;33m:\u001b[0m \u001b[0mText\u001b[0m\u001b[1;33m,\u001b[0m \u001b[0mmsg_id\u001b[0m\u001b[1;33m:\u001b[0m \u001b[0mText\u001b[0m \u001b[1;33m|\u001b[0m \u001b[1;32mNone\u001b[0m \u001b[1;33m=\u001b[0m \u001b[1;32mNone\u001b[0m\u001b[1;33m)\u001b[0m \u001b[1;33m->\u001b[0m \u001b[0mMessage\u001b[0m\u001b[1;33m:\u001b[0m\u001b[1;33m\u001b[0m\u001b[1;33m\u001b[0m\u001b[0m\n",
      "\u001b[1;32m~\\AppData\\Local\\Programs\\Python\\Python310\\lib\\site-packages\\pydantic\\main.py\u001b[0m in \u001b[0;36m__init__\u001b[1;34m(__pydantic_self__, **data)\u001b[0m\n\u001b[0;32m    404\u001b[0m         \u001b[0mvalues\u001b[0m\u001b[1;33m,\u001b[0m \u001b[0mfields_set\u001b[0m\u001b[1;33m,\u001b[0m \u001b[0mvalidation_error\u001b[0m \u001b[1;33m=\u001b[0m \u001b[0mvalidate_model\u001b[0m\u001b[1;33m(\u001b[0m\u001b[0m__pydantic_self__\u001b[0m\u001b[1;33m.\u001b[0m\u001b[0m__class__\u001b[0m\u001b[1;33m,\u001b[0m \u001b[0mdata\u001b[0m\u001b[1;33m)\u001b[0m\u001b[1;33m\u001b[0m\u001b[1;33m\u001b[0m\u001b[0m\n\u001b[0;32m    405\u001b[0m         \u001b[1;32mif\u001b[0m \u001b[0mvalidation_error\u001b[0m\u001b[1;33m:\u001b[0m\u001b[1;33m\u001b[0m\u001b[1;33m\u001b[0m\u001b[0m\n\u001b[1;32m--> 406\u001b[1;33m             \u001b[1;32mraise\u001b[0m \u001b[0mvalidation_error\u001b[0m\u001b[1;33m\u001b[0m\u001b[1;33m\u001b[0m\u001b[0m\n\u001b[0m\u001b[0;32m    407\u001b[0m         \u001b[1;32mtry\u001b[0m\u001b[1;33m:\u001b[0m\u001b[1;33m\u001b[0m\u001b[1;33m\u001b[0m\u001b[0m\n\u001b[0;32m    408\u001b[0m             \u001b[0mobject_setattr\u001b[0m\u001b[1;33m(\u001b[0m\u001b[0m__pydantic_self__\u001b[0m\u001b[1;33m,\u001b[0m \u001b[1;34m'__dict__'\u001b[0m\u001b[1;33m,\u001b[0m \u001b[0mvalues\u001b[0m\u001b[1;33m)\u001b[0m\u001b[1;33m\u001b[0m\u001b[1;33m\u001b[0m\u001b[0m\n",
      "\u001b[1;31mValidationError\u001b[0m: 5 validation errors for Message\nid\n  field required (type=value_error.missing)\nchannel_id\n  field required (type=value_error.missing)\nguild_id\n  field required (type=value_error.missing)\ntimestamp\n  field required (type=value_error.missing)\nauthor\n  field required (type=value_error.missing)"
     ]
    }
   ],
   "source": [
    "# 实例化\n",
    "m = SendMessage(channel_id=1587214)\n",
    "\n",
    "m.send_text(content = \"hello world!\")"
   ]
  }
 ],
 "metadata": {
  "interpreter": {
   "hash": "848c494c2350003e49d15b66266b769f07f06a206cbd401f0a6168d583a0301f"
  },
  "kernelspec": {
   "display_name": "Python 3.10.0 64-bit",
   "language": "python",
   "name": "python3"
  },
  "language_info": {
   "codemirror_mode": {
    "name": "ipython",
    "version": 3
   },
   "file_extension": ".py",
   "mimetype": "text/x-python",
   "name": "python",
   "nbconvert_exporter": "python",
   "pygments_lexer": "ipython3",
   "version": "3.10.0"
  },
  "orig_nbformat": 4
 },
 "nbformat": 4,
 "nbformat_minor": 2
}
